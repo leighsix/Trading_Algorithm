{
 "cells": [
  {
   "cell_type": "code",
   "execution_count": 208,
   "metadata": {},
   "outputs": [],
   "source": [
    "from IPython.display import display\n",
    "import numpy as np\n",
    "import matplotlib.pyplot as plt\n",
    "import pandas as pd\n",
    "import mglearn\n",
    "import math\n",
    "import random\n",
    "import networkx\n",
    "from sympy import *             "
   ]
  },
  {
   "cell_type": "code",
   "execution_count": 249,
   "metadata": {},
   "outputs": [
    {
     "ename": "IndexError",
     "evalue": "index 14 is out of bounds for axis 0 with size 10",
     "output_type": "error",
     "traceback": [
      "\u001b[1;31m---------------------------------------------------------------------------\u001b[0m",
      "\u001b[1;31mIndexError\u001b[0m                                Traceback (most recent call last)",
      "\u001b[1;32m<ipython-input-249-ebdcaf737663>\u001b[0m in \u001b[0;36m<module>\u001b[1;34m()\u001b[0m\n\u001b[0;32m     16\u001b[0m             \u001b[0mi2\u001b[0m \u001b[1;33m=\u001b[0m \u001b[0mrandom\u001b[0m\u001b[1;33m.\u001b[0m\u001b[0mrandint\u001b[0m\u001b[1;33m(\u001b[0m\u001b[1;36m0\u001b[0m\u001b[1;33m,\u001b[0m \u001b[1;36m99\u001b[0m\u001b[1;33m)\u001b[0m\u001b[1;33m\u001b[0m\u001b[0m\n\u001b[0;32m     17\u001b[0m             \u001b[1;32mif\u001b[0m \u001b[1;32mnot\u001b[0m\u001b[1;33m(\u001b[0m\u001b[0mi1\u001b[0m\u001b[1;33m==\u001b[0m\u001b[0mi2\u001b[0m\u001b[1;33m)\u001b[0m \u001b[1;33m:\u001b[0m\u001b[1;33m\u001b[0m\u001b[0m\n\u001b[1;32m---> 18\u001b[1;33m                 \u001b[0mA2\u001b[0m \u001b[1;33m=\u001b[0m \u001b[0mA\u001b[0m\u001b[1;33m[\u001b[0m\u001b[0mi2\u001b[0m\u001b[1;33m]\u001b[0m\u001b[1;33m\u001b[0m\u001b[0m\n\u001b[0m\u001b[0;32m     19\u001b[0m                 \u001b[1;32mbreak\u001b[0m\u001b[1;33m\u001b[0m\u001b[0m\n\u001b[0;32m     20\u001b[0m             \u001b[1;32mif\u001b[0m \u001b[0mi1\u001b[0m\u001b[1;33m==\u001b[0m\u001b[0mi2\u001b[0m \u001b[1;33m:\u001b[0m\u001b[1;33m\u001b[0m\u001b[0m\n",
      "\u001b[1;31mIndexError\u001b[0m: index 14 is out of bounds for axis 0 with size 10"
     ]
    }
   ],
   "source": [
    "\n",
    "A = np.random.choice([x for x in range(1, 3)], 10*10).reshape(10, 10)  # layer A   (10*10) matrix, component +1, +2\n",
    "B = np.random.choice([x for x in range(-1, 0)], 10*10).reshape(10, 10) # layer B   (10*10) matrix, component -1\n",
    "D = np.linspace(0, 5, 2)  # reinforcement r space  for the graph according to r changes\n",
    "beta = 1  # volatility : 1\n",
    "for r in D :\n",
    "    C = np.array([[1, 1], [1, -r]])  # p + q = 1, r = p / q\n",
    "    C_inv=np.linalg.inv(C)\n",
    "    pq=C_inv * np.array([[1, 0]])  # deriving probability p, q \n",
    "    prob_p = pq[0,0]  # probability p \n",
    "    prob_q=pq[1,0]    # probability q \n",
    "    c = [0, 1, 2, 3, 4, 5, 6, 7, 8, 9]  # monte carlo simulation\n",
    "    for i1 in c :\n",
    "        for j1 in c :\n",
    "            A1 = A[i1][j1]\n",
    "            while True :\n",
    "                i2 = random.randint(0, 9)\n",
    "                j2 = random.randint(0, 9)\n",
    "                if not(i1==i2 and j1==j2) :\n",
    "                    A2 = A[i2][j2]\n",
    "                    break\n",
    "                if i1==i2 and j1==j2  :\n",
    "                    continue\n",
    "            while True :\n",
    "                i3 = random.randint(0, 9)\n",
    "                j3 = random.randint(0, 9)\n",
    "                if not(i2==i3 and j2==j3) :\n",
    "                    A3 = A[i3][j3]\n",
    "                    break\n",
    "                if i2==i3 and j2==j3 :\n",
    "                    continue\n",
    "            while True :\n",
    "                i4 = random.randint(0, 9)\n",
    "                j4 = random.randint(0, 9)\n",
    "                if not(i3==i4 and j4==j4) :\n",
    "                    A4 = A[i4][j4]\n",
    "                    break\n",
    "                if i2==i3 and j2==j3 :\n",
    "                    continue             # A layer internal degree : 4                  \n",
    "            Alayer = np.arraY([A1, A2, A3, A4]\n",
    "    for k1 in c :\n",
    "        for l1 in c :\n",
    "            B1 = B[k1, l1]\n",
    "            while True :\n",
    "                k2 = random.randint(0, 9)\n",
    "                l2 = random.randint(0, 9)\n",
    "                if not(k1==k2 and l1==l2) :\n",
    "                    B2 = B[k2, l2]\n",
    "                    break\n",
    "                if k1==k2 and l1==l2  :\n",
    "                    continue\n",
    "            while True :\n",
    "                k3 = random.randint(0, 9)\n",
    "                l3 = random.randint(0, 9)\n",
    "                if not(k2==k3 and l2==l3) :\n",
    "                    B3 = B[k3, l3]\n",
    "                    break\n",
    "                if k2==k3 and k2==k3 :\n",
    "                    continue\n",
    "            while True :\n",
    "                k4 = random.randint(0, 9)\n",
    "                l4 = random.randint(0, 9)\n",
    "                if not(k3==k4 and l4==l4) :\n",
    "                    B4 = B[k4, l4]\n",
    "                    break\n",
    "                if k2==k3 and l2==l3 :\n",
    "                    continue             # A layer internal degree : 4                  \n",
    "            Blayer = [B1, B2, B3, B4]     \n",
    "            z = random.random()\n",
    "            Alayer.shape "
   ]
  },
  {
   "cell_type": "code",
   "execution_count": 44,
   "metadata": {},
   "outputs": [
    {
     "ename": "TypeError",
     "evalue": "list indices must be integers or slices, not tuple",
     "output_type": "error",
     "traceback": [
      "\u001b[1;31m---------------------------------------------------------------------------\u001b[0m",
      "\u001b[1;31mTypeError\u001b[0m                                 Traceback (most recent call last)",
      "\u001b[1;32m<ipython-input-44-f783800eebb2>\u001b[0m in \u001b[0;36m<module>\u001b[1;34m()\u001b[0m\n\u001b[1;32m----> 1\u001b[1;33m \u001b[0mcompeting_Alayers\u001b[0m\u001b[1;33m(\u001b[0m\u001b[1;33m)\u001b[0m\u001b[1;33m\u001b[0m\u001b[0m\n\u001b[0m",
      "\u001b[1;32m<ipython-input-43-9ef98bb28044>\u001b[0m in \u001b[0;36mcompeting_Alayers\u001b[1;34m()\u001b[0m\n\u001b[0;32m     75\u001b[0m                         \u001b[1;32mfor\u001b[0m \u001b[0mk\u001b[0m \u001b[1;32min\u001b[0m \u001b[0mrange\u001b[0m\u001b[1;33m(\u001b[0m\u001b[1;36m0\u001b[0m\u001b[1;33m,\u001b[0m \u001b[1;36m100\u001b[0m\u001b[1;33m)\u001b[0m \u001b[1;33m:\u001b[0m\u001b[1;33m\u001b[0m\u001b[0m\n\u001b[0;32m     76\u001b[0m                             \u001b[1;32mfor\u001b[0m \u001b[0ml\u001b[0m \u001b[1;32min\u001b[0m \u001b[0mrange\u001b[0m\u001b[1;33m(\u001b[0m\u001b[1;36m0\u001b[0m\u001b[1;33m,\u001b[0m \u001b[1;36m4\u001b[0m\u001b[1;33m)\u001b[0m \u001b[1;33m:\u001b[0m\u001b[1;33m\u001b[0m\u001b[0m\n\u001b[1;32m---> 77\u001b[1;33m                                 \u001b[1;32mif\u001b[0m \u001b[0mAlayer\u001b[0m\u001b[1;33m[\u001b[0m\u001b[0mi\u001b[0m\u001b[1;33m,\u001b[0m \u001b[0mj\u001b[0m\u001b[1;33m]\u001b[0m \u001b[1;33m*\u001b[0m \u001b[0mAlayer\u001b[0m\u001b[1;33m[\u001b[0m\u001b[0mk\u001b[0m\u001b[1;33m,\u001b[0m \u001b[0ml\u001b[0m\u001b[1;33m]\u001b[0m \u001b[1;33m==\u001b[0m \u001b[1;36m2\u001b[0m \u001b[1;33m:\u001b[0m\u001b[1;33m\u001b[0m\u001b[0m\n\u001b[0m\u001b[0;32m     78\u001b[0m                                     \u001b[1;32mif\u001b[0m \u001b[0mz\u001b[0m \u001b[1;33m<=\u001b[0m \u001b[0mprob_p\u001b[0m \u001b[1;33m:\u001b[0m     \u001b[1;31m# According to probabilty p, A layer change\u001b[0m\u001b[1;33m\u001b[0m\u001b[0m\n\u001b[0;32m     79\u001b[0m                                         \u001b[0mAlayer\u001b[0m\u001b[1;33m[\u001b[0m\u001b[0mi\u001b[0m\u001b[1;33m,\u001b[0m \u001b[0mj\u001b[0m\u001b[1;33m]\u001b[0m \u001b[1;33m==\u001b[0m \u001b[1;36m2\u001b[0m\u001b[1;33m\u001b[0m\u001b[0m\n",
      "\u001b[1;31mTypeError\u001b[0m: list indices must be integers or slices, not tuple"
     ]
    }
   ],
   "source": [
    "            def competing_Alayers() :\n",
    "                Alayer = [A1, A2, A3, A4]\n",
    "                for i in range(0, 100) :\n",
    "                    for j in range(0, 4) :\n",
    "                        for k in range(0, 100) :\n",
    "                            for l in range(0, 4) :\n",
    "                                if Alayer[i, j] * Alayer[k, l] == 2 :\n",
    "                                    if z <= prob_p :     # According to probabilty p, A layer change\n",
    "                                        Alayer[i, j] == 2 \n",
    "                                        Alayer[k, l] == 2\n",
    "                                elif Alayer[i, j] * Blayer[i, j] == -1 :\n",
    "                                        if z > prob_p :     # According to probabilty p, A layer change\n",
    "                                            Alayer[i, j] == -1 \n",
    "                                elif ABlayer[i, j] * Blayer[i, j] == -2 :\n",
    "                                        if z > prob_p :     # According to probabilty p, A layer change\n",
    "                                            Alayer[i, j] == 1\n",
    "                                Alayer = [A1, A2, A3, A4]\n",
    "                                print(Alayer)\n",
    "            def competing_Blayers() :\n",
    "                ABlayer = [B1, B2, B3, B4, A1] \n",
    "                Blayer = [B1, B2, B3, B4]\n",
    "                for i in range(0, 100) :\n",
    "                    for j in range(0, 4) :\n",
    "                        for k in range(0, 100) :\n",
    "                            for l in range(0, 4) :\n",
    "                                if Blayer[i, j] < 0 :\n",
    "                                    n = sum(ABlayer > 0)\n",
    "                                    if z  <= (n/5)**beta :\n",
    "                                        Blayer[i, j] == 1\n",
    "                                elif Blayer[i, j] > 0 :\n",
    "                                    n = sum(ABlayer < 0)\n",
    "                                    if z  <= (n/5)**beta :\n",
    "                                        Blayer[i, j] == -1\n",
    "                                Blayer = np.array([B1, B2, B3, B4])  "
   ]
  },
  {
   "cell_type": "code",
   "execution_count": 225,
   "metadata": {},
   "outputs": [
    {
     "data": {
      "text/plain": [
       "(4,)"
      ]
     },
     "execution_count": 225,
     "metadata": {},
     "output_type": "execute_result"
    }
   ],
   "source": [
    "                    Alayer.shape"
   ]
  },
  {
   "cell_type": "code",
   "execution_count": 36,
   "metadata": {},
   "outputs": [
    {
     "data": {
      "text/plain": [
       "array([[-1, -1, -1, -1, -1, -1, -1, -1, -1, -1],\n",
       "       [-1, -1, -1, -1, -1, -1, -1, -1, -1, -1],\n",
       "       [-1, -1, -1, -1, -1, -1, -1, -1, -1, -1],\n",
       "       [-1, -1, -1, -1, -1, -1, -1, -1, -1, -1],\n",
       "       [-1, -1, -1, -1, -1, -1, -1, -1, -1, -1],\n",
       "       [-1, -1, -1, -1, -1, -1, -1, -1, -1, -1],\n",
       "       [-1, -1, -1, -1, -1, -1, -1, -1, -1, -1],\n",
       "       [-1, -1, -1, -1, -1, -1, -1, -1, -1, -1],\n",
       "       [-1, -1, -1, -1, -1, -1, -1, -1, -1, -1],\n",
       "       [-1, -1, -1, -1, -1, -1, -1, -1, -1, -1]])"
      ]
     },
     "execution_count": 36,
     "metadata": {},
     "output_type": "execute_result"
    }
   ],
   "source": [
    "A = np.random.choice([x for x in range(1, 3)], 10*10).reshape(10, 10)  # layer A   (10*10) matrix, component +1, +2\n",
    "B = np.random.choice([x for x in range(-1, 0)], 10*10).reshape(10, 10) # layer B   (10*10) matrix, component -1\n",
    "B"
   ]
  }
 ],
 "metadata": {
  "kernelspec": {
   "display_name": "Python 3",
   "language": "python",
   "name": "python3"
  },
  "language_info": {
   "codemirror_mode": {
    "name": "ipython",
    "version": 3
   },
   "file_extension": ".py",
   "mimetype": "text/x-python",
   "name": "python",
   "nbconvert_exporter": "python",
   "pygments_lexer": "ipython3",
   "version": "3.6.4"
  }
 },
 "nbformat": 4,
 "nbformat_minor": 2
}
