{
 "cells": [
  {
   "cell_type": "code",
   "execution_count": 3,
   "metadata": {},
   "outputs": [],
   "source": [
    "from IPython.display import display\n",
    "import numpy as np\n",
    "import matplotlib.pyplot as plt\n",
    "import pandas as pd\n",
    "import mglearn\n",
    "import math\n",
    "import random\n",
    "from random import *\n",
    "import networkx\n",
    "from sympy import *\n",
    "A = np.random.choice([x for x in range(1, 3)], 1001*1001).reshape(1001, 1001)\n",
    "B = np.random.choice([x for x in range(-1, 0)], 1001*1001).reshape(1001, 1001)\n"
   ]
  },
  {
   "cell_type": "code",
   "execution_count": 4,
   "metadata": {},
   "outputs": [
    {
     "data": {
      "text/plain": [
       "array([[2, 1, 1, ..., 1, 1, 2],\n",
       "       [2, 2, 2, ..., 2, 1, 2],\n",
       "       [2, 2, 1, ..., 2, 2, 1],\n",
       "       ...,\n",
       "       [2, 2, 1, ..., 1, 2, 1],\n",
       "       [1, 2, 1, ..., 2, 1, 1],\n",
       "       [1, 1, 1, ..., 2, 1, 2]])"
      ]
     },
     "execution_count": 4,
     "metadata": {},
     "output_type": "execute_result"
    }
   ],
   "source": [
    "A"
   ]
  },
  {
   "cell_type": "code",
   "execution_count": null,
   "metadata": {},
   "outputs": [],
   "source": [
    "D = np.linspace(0, 3, 1000)\n",
    "beta = 2\n",
    "for r in D :\n",
    "    C = np.array([[1, 1], [1, -r]])\n",
    "    C_inv=np.linalg.inv(C)\n",
    "    pq=C_inv * np.array([[1, 0]])\n",
    "    prob_p = pq[0,0]\n",
    "    prob_q=pq[1,0]\n",
    "    for i in range(1,1001) :\n",
    "        for j in range(1,1001) :\n",
    "            for k in range(1,1001) :\n",
    "                 for l in range(1,1001) : \n",
    "                    if not(i == k) and not(j == l) :\n",
    "                        w = random()\n",
    "                        if w <= (40000/999999) :\n",
    "                            if A[i, j] + A[k, l] == 3 :\n",
    "                                y = random()\n",
    "                                if  y <= prob_p :\n",
    "                                    if A[i, j] == 2 :\n",
    "                                        A[k, l] = 2\n",
    "                                    elif A[i, j] == 1 :\n",
    "                                         A[i, j] = 2\n",
    "                                elif y > prob_p :\n",
    "                                    A[i, j] = A[i, j]\n",
    "                                    A[k, l] = A[k, l]\n",
    "                            elif not(A[i, j] + A[k, l] == 3):\n",
    "                                A[i, j] = A[i, j]\n",
    "                                A[k, l] = A[k, l]\n",
    "                        elif w > (40000/999999) :\n",
    "                            A[i, j] = A[i, j]\n",
    "                            A[k, l] = A[k, l]\n",
    "                            \n",
    "    for i in range(1,1001) : \n",
    "         for j in range(1,1001) :\n",
    "            z = random()\n",
    "            if z <= (1/40001) ** beta :\n",
    "                 if A[i, j] * B[i, j] < 0 :\n",
    "                    B[i, j] = 1\n",
    "            elif  z > (1/40001) ** beta :\n",
    "                B[i, j] = -1\n",
    "    for i in range(1,1001) :\n",
    "        for j in range(1,1001) : \n",
    "            for k in range(1,1001) :\n",
    "                for l in range(1,1001) : \n",
    "                    if not(i == k) and not(j == l) : \n",
    "                        u = random()\n",
    "                        if u <= (40000/999999) :\n",
    "                            if B[i, j] + B[k, l] ==0 :\n",
    "                                x = random()\n",
    "                                if x <= prob_p :\n",
    "                                    B[i, j] = 1\n",
    "                                    B[k, l] = 1\n",
    "                                elif x > prob_p :\n",
    "                                    B[i, j] = B[i, j]\n",
    "                                    B[k, l] = B[k, l]\n",
    "                            elif not(B[i, j] + B[k, l] ==0) :\n",
    "                                B[i, j] = B[i, j]\n",
    "                                B[k, l] = B[k, l]\n",
    "                        elif u > (40000/999999) :\n",
    "                            B[i, j] = B[i, j]\n",
    "                            B[k, l] = B[k, l]\n",
    "                    P = sum(sum(B > -1)) / 100 "
   ]
  },
  {
   "cell_type": "code",
   "execution_count": null,
   "metadata": {},
   "outputs": [],
   "source": [
    "    plt.xlim(0,1)\n",
    "    plt.ylim(0,1)\n",
    "    plt.xlabel('r')\n",
    "    plt.ylabel('P+')\n",
    "    plt.title('r-P+')\n",
    "    plt.plot(r, P, '.')"
   ]
  },
  {
   "cell_type": "code",
   "execution_count": null,
   "metadata": {},
   "outputs": [],
   "source": []
  }
 ],
 "metadata": {
  "kernelspec": {
   "display_name": "Python 3",
   "language": "python",
   "name": "python3"
  },
  "language_info": {
   "codemirror_mode": {
    "name": "ipython",
    "version": 3
   },
   "file_extension": ".py",
   "mimetype": "text/x-python",
   "name": "python",
   "nbconvert_exporter": "python",
   "pygments_lexer": "ipython3",
   "version": "3.6.4"
  }
 },
 "nbformat": 4,
 "nbformat_minor": 2
}
