{
 "cells": [
  {
   "cell_type": "code",
   "execution_count": 1,
   "metadata": {},
   "outputs": [],
   "source": [
    "from IPython.display import display\n",
    "import numpy as np\n",
    "import matplotlib.pyplot as plt\n",
    "import pandas as pd\n",
    "import mglearn\n",
    "import math\n",
    "import random\n",
    "from random import *\n",
    "import networkx\n",
    "from sympy import *"
   ]
  },
  {
   "cell_type": "code",
   "execution_count": null,
   "metadata": {
    "scrolled": true
   },
   "outputs": [],
   "source": [
    "A = np.random.choice([x for x in range(1, 3)], 11*11).reshape(11, 11)\n",
    "B = np.random.choice([x for x in range(-1, 0)], 11*11).reshape(11, 11)\n",
    "D = np.linspace(0, 5, 100)\n",
    "beta = 2.5\n",
    "for r in D :\n",
    "    C = np.array([[1, 1], [1, -r]])\n",
    "    C_inv=np.linalg.inv(C)\n",
    "    pq=C_inv * np.array([[1, 0]])\n",
    "    prob_p = pq[0,0]\n",
    "    prob_q=pq[1,0]\n",
    "    c = [1, 2, 3, 4, 5, 6, 7, 8, 9, 10]\n",
    "    d = [1, 2, 3, 4, 5, 6, 7, 8, 9, 10]\n",
    "    for s in range(1,10) :\n",
    "        while s == 9 :\n",
    "            for i in c :\n",
    "                for j in c :\n",
    "                    for k in d :\n",
    "                        for l in d : \n",
    "                            if not(i == k) and not(j == l) :\n",
    "                                w = random()\n",
    "                                if w <= (4/99) :\n",
    "                                    if A[i, j] + A[k, l] == 3 :\n",
    "                                        y = random()\n",
    "                                        if  y <= prob_p :\n",
    "                                            if A[i, j] == 2 :\n",
    "                                                A[k, l] = 2\n",
    "                                            elif A[i, j] == 1 :\n",
    "                                                A[i, j] = 2\n",
    "                            \n",
    "                                        elif y > prob_p :\n",
    "                                            A[i, j] = A[i, j]\n",
    "                                            A[k, l] = A[k, l]\n",
    "                                    elif not(A[i, j] + A[k, l] == 3):\n",
    "                                        A[i, j] = A[i, j]\n",
    "                                        A[k, l] = A[k, l]\n",
    "                                elif w > (4/99) :\n",
    "                                    A[i, j] = A[i, j]\n",
    "                                    A[k, l] = A[k, l]\n",
    "            for i in c : \n",
    "                for j in c :\n",
    "                    z = random()\n",
    "                    if z <= (1/5) ** beta :\n",
    "                        if A[i, j] * B[i, j] < 0 :\n",
    "                            B[i, j] = 1\n",
    "                    elif  z > (1/5) ** beta :\n",
    "                        B[i, j] = -1\n",
    "            for i in c :\n",
    "                for j in c : \n",
    "                    for k in d :\n",
    "                        for l in d : \n",
    "                            if not(i == k) and not(j == l) : \n",
    "                                u = random()\n",
    "                                if u <= (4/99) :\n",
    "                                    if B[i, j] + B[k, l] ==0 :\n",
    "                                        x = random()\n",
    "                                        if x <= prob_p :\n",
    "                                            B[i, j] = 1\n",
    "                                            B[k, l] = 1\n",
    "                                        elif x > prob_p :\n",
    "                                            B[i, j] = B[i, j]\n",
    "                                            B[k, l] = B[k, l]\n",
    "                                    elif not(B[i, j] + B[k, l] ==0) :\n",
    "                                        B[i, j] = B[i, j]\n",
    "                                        B[k, l] = B[k, l]\n",
    "                                elif u > (4/99) :\n",
    "                                    B[i, j] = B[i, j]\n",
    "                                    B[k, l] = B[k, l]\n",
    "                                P = sum(sum(B > -1)) / 100 \n",
    "    print(r, P)     "
   ]
  },
  {
   "cell_type": "code",
   "execution_count": null,
   "metadata": {},
   "outputs": [],
   "source": [
    "    plt.xlim(0,5)\n",
    "    plt.ylim(0,1)\n",
    "    plt.xlabel('r')\n",
    "    plt.ylabel('P+')\n",
    "    plt.title('r-P+')\n",
    "    plt.plot(r, P, '.')\n",
    "    plt.show()"
   ]
  },
  {
   "cell_type": "code",
   "execution_count": null,
   "metadata": {},
   "outputs": [],
   "source": []
  },
  {
   "cell_type": "code",
   "execution_count": null,
   "metadata": {},
   "outputs": [],
   "source": []
  }
 ],
 "metadata": {
  "kernelspec": {
   "display_name": "Python 3",
   "language": "python",
   "name": "python3"
  },
  "language_info": {
   "codemirror_mode": {
    "name": "ipython",
    "version": 3
   },
   "file_extension": ".py",
   "mimetype": "text/x-python",
   "name": "python",
   "nbconvert_exporter": "python",
   "pygments_lexer": "ipython3",
   "version": "3.6.4"
  }
 },
 "nbformat": 4,
 "nbformat_minor": 2
}
