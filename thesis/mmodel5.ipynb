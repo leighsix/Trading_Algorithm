{
 "cells": [
  {
   "cell_type": "code",
   "execution_count": 3,
   "metadata": {},
   "outputs": [],
   "source": [
    "import numpy as np\n",
    "import matplotlib.pyplot as plt\n",
    "import pandas as pd\n",
    "import math\n",
    "import random"
   ]
  },
  {
   "cell_type": "code",
   "execution_count": 1,
   "metadata": {},
   "outputs": [
    {
     "ename": "NameError",
     "evalue": "name 'np' is not defined",
     "output_type": "error",
     "traceback": [
      "\u001b[1;31m---------------------------------------------------------------------------\u001b[0m",
      "\u001b[1;31mNameError\u001b[0m                                 Traceback (most recent call last)",
      "\u001b[1;32m<ipython-input-1-9736498c4d9c>\u001b[0m in \u001b[0;36m<module>\u001b[1;34m()\u001b[0m\n\u001b[1;32m----> 1\u001b[1;33m \u001b[0mA\u001b[0m \u001b[1;33m=\u001b[0m \u001b[0mnp\u001b[0m\u001b[1;33m.\u001b[0m\u001b[0mrandom\u001b[0m\u001b[1;33m.\u001b[0m\u001b[0mchoice\u001b[0m\u001b[1;33m(\u001b[0m\u001b[1;33m[\u001b[0m\u001b[0mx\u001b[0m \u001b[1;32mfor\u001b[0m \u001b[0mx\u001b[0m \u001b[1;32min\u001b[0m \u001b[0mrange\u001b[0m\u001b[1;33m(\u001b[0m\u001b[1;36m1\u001b[0m\u001b[1;33m,\u001b[0m \u001b[1;36m3\u001b[0m\u001b[1;33m)\u001b[0m\u001b[1;33m]\u001b[0m\u001b[1;33m,\u001b[0m \u001b[1;36m10\u001b[0m\u001b[1;33m*\u001b[0m\u001b[1;36m10\u001b[0m\u001b[1;33m)\u001b[0m\u001b[1;33m.\u001b[0m\u001b[0mreshape\u001b[0m\u001b[1;33m(\u001b[0m\u001b[1;36m10\u001b[0m\u001b[1;33m,\u001b[0m \u001b[1;36m10\u001b[0m\u001b[1;33m)\u001b[0m  \u001b[1;31m# layer A   (10*10) matrix, component +1, +2\u001b[0m\u001b[1;33m\u001b[0m\u001b[0m\n\u001b[0m\u001b[0;32m      2\u001b[0m \u001b[0mB\u001b[0m \u001b[1;33m=\u001b[0m \u001b[0mnp\u001b[0m\u001b[1;33m.\u001b[0m\u001b[0mrandom\u001b[0m\u001b[1;33m.\u001b[0m\u001b[0mchoice\u001b[0m\u001b[1;33m(\u001b[0m\u001b[1;33m[\u001b[0m\u001b[0mx\u001b[0m \u001b[1;32mfor\u001b[0m \u001b[0mx\u001b[0m \u001b[1;32min\u001b[0m \u001b[0mrange\u001b[0m\u001b[1;33m(\u001b[0m\u001b[1;33m-\u001b[0m\u001b[1;36m1\u001b[0m\u001b[1;33m,\u001b[0m \u001b[1;36m0\u001b[0m\u001b[1;33m)\u001b[0m\u001b[1;33m]\u001b[0m\u001b[1;33m,\u001b[0m \u001b[1;36m10\u001b[0m\u001b[1;33m*\u001b[0m\u001b[1;36m10\u001b[0m\u001b[1;33m)\u001b[0m\u001b[1;33m.\u001b[0m\u001b[0mreshape\u001b[0m\u001b[1;33m(\u001b[0m\u001b[1;36m10\u001b[0m\u001b[1;33m,\u001b[0m \u001b[1;36m10\u001b[0m\u001b[1;33m)\u001b[0m \u001b[1;31m# layer B   (10*10) matrix, component -1\u001b[0m\u001b[1;33m\u001b[0m\u001b[0m\n\u001b[0;32m      3\u001b[0m \u001b[0mD\u001b[0m \u001b[1;33m=\u001b[0m \u001b[0mnp\u001b[0m\u001b[1;33m.\u001b[0m\u001b[0mlinspace\u001b[0m\u001b[1;33m(\u001b[0m\u001b[1;36m0\u001b[0m\u001b[1;33m,\u001b[0m \u001b[1;36m5\u001b[0m\u001b[1;33m,\u001b[0m \u001b[1;36m2\u001b[0m\u001b[1;33m)\u001b[0m  \u001b[1;31m# reinforcement r space  for the graph according to r changes\u001b[0m\u001b[1;33m\u001b[0m\u001b[0m\n\u001b[0;32m      4\u001b[0m \u001b[0mbeta\u001b[0m \u001b[1;33m=\u001b[0m \u001b[1;36m1\u001b[0m  \u001b[1;31m# volatility : 1\u001b[0m\u001b[1;33m\u001b[0m\u001b[0m\n\u001b[0;32m      5\u001b[0m \u001b[1;32mfor\u001b[0m \u001b[0mr\u001b[0m \u001b[1;32min\u001b[0m \u001b[0mD\u001b[0m \u001b[1;33m:\u001b[0m\u001b[1;33m\u001b[0m\u001b[0m\n",
      "\u001b[1;31mNameError\u001b[0m: name 'np' is not defined"
     ]
    }
   ],
   "source": [
    "A = np.random.choice([x for x in range(1, 3)], 10*10).reshape(10, 10)  # layer A   (10*10) matrix, component +1, +2\n",
    "B = np.random.choice([x for x in range(-1, 0)], 10*10).reshape(10, 10) # layer B   (10*10) matrix, component -1\n",
    "D = np.linspace(0, 5, 2)  # reinforcement r space  for the graph according to r changes\n",
    "beta = 1  # volatility : 1\n",
    "for r in D :\n",
    "    C = np.array([[1, 1], [1, -r]])  # p + q = 1, r = p / q\n",
    "    C_inv=np.linalg.inv(C)\n",
    "    pq=C_inv * np.array([[1, 0]])  # deriving probability p, q \n",
    "    prob_p = pq[0,0]  # probability p \n",
    "    prob_q=pq[1,0]    # probability p \n",
    "    c = [0, 1, 2, 3, 4, 5, 6, 7, 8, 9]  # monte carlo simulation\n",
    "    for i1 in c :\n",
    "        for j1 in c :\n",
    "            A1 = A[i1, j1]\n",
    "            Blayer = B[i1, j1]        \n",
    "            while True :\n",
    "                i2 = random.randint(0, 9)\n",
    "                j2 = random.randint(0, 9)\n",
    "                if not(i1==i2 and j1==j2) :\n",
    "                    A2 = A[i2, j2]\n",
    "                    break\n",
    "                if i1==i2 and j1==j2 :\n",
    "                    continue\n",
    "            while True :\n",
    "                i3 = random.randint(0, 9)\n",
    "                j3 = random.randint(0, 9)\n",
    "                if not(i2==i3 and j2==j3) :\n",
    "                    A3 = A[i3, j3]\n",
    "                    break\n",
    "                if i2==i3 and j2==j3 :\n",
    "                    continue\n",
    "            while True :\n",
    "                i4 = random.randint(0, 9)\n",
    "                j4 = random.randint(0, 9)\n",
    "                if not(i3==i4 and j4==j4) :\n",
    "                    A4 = A[i4, j4]\n",
    "                    break\n",
    "                if i2==i3 and j2==j3 :\n",
    "                    continue             # A layer internal degree : 4  \n",
    "            Alayer = [A1, A2, A3, A4]\n",
    "            print(Alayer, Blayer)        # A layer internal degree : 4, External degree : 1     "
   ]
  },
  {
   "cell_type": "code",
   "execution_count": 148,
   "metadata": {},
   "outputs": [
    {
     "data": {
      "text/plain": [
       "-1"
      ]
     },
     "execution_count": 148,
     "metadata": {},
     "output_type": "execute_result"
    }
   ],
   "source": [
    "Blayer"
   ]
  },
  {
   "cell_type": "code",
   "execution_count": null,
   "metadata": {},
   "outputs": [],
   "source": []
  },
  {
   "cell_type": "code",
   "execution_count": 10,
   "metadata": {},
   "outputs": [
    {
     "data": {
      "text/plain": [
       "0.27157769698976963"
      ]
     },
     "execution_count": 10,
     "metadata": {},
     "output_type": "execute_result"
    }
   ],
   "source": [
    "z= random.random()\n",
    "z"
   ]
  },
  {
   "cell_type": "code",
   "execution_count": 3,
   "metadata": {},
   "outputs": [
    {
     "ename": "IndentationError",
     "evalue": "unindent does not match any outer indentation level (<tokenize>, line 4)",
     "output_type": "error",
     "traceback": [
      "\u001b[1;36m  File \u001b[1;32m\"<tokenize>\"\u001b[1;36m, line \u001b[1;32m4\u001b[0m\n\u001b[1;33m    A1 = 2\u001b[0m\n\u001b[1;37m    ^\u001b[0m\n\u001b[1;31mIndentationError\u001b[0m\u001b[1;31m:\u001b[0m unindent does not match any outer indentation level\n"
     ]
    }
   ],
   "source": [
    "                                                         \n",
    "                                                    if (A1 == 1) and (A3 == 2) :\n",
    "                                                        if z4 <= prob_p :\n",
    "                                                            A1 = 2\n",
    "                                                            BS = np.sum(B1*B2 < 0) + np.sum(B1*B3 < 0) + np.sum(B1*B4 < 0) + np.sum(B1*A1 < 0)\n",
    "                                                            if z5 <= (BS/5) ** beta :\n",
    "                                                                if B1 == - 1 :\n",
    "                                                                    B1 = 1\n",
    "                                                            elif z5 > (BS/5) ** beta :\n",
    "                                                                if B1 == -1 :\n",
    "                                                                    B1 = -1                                                             \n",
    "                                                        elif z4 > prob_p :\n",
    "                                                            BS = np.sum(B1*B2 < 0) + np.sum(B1*B3 < 0) + np.sum(B1*B4 < 0) + np.sum(B1*A1 < 0)\n",
    "                                                            if z5 <= (BS/5) ** beta :\n",
    "                                                                if B1 == - 1 :\n",
    "                                                                    B1 = 1\n",
    "                                                            elif z5 > (BS/5) ** beta :\n",
    "                                                                if B1 == -1 :\n",
    "                                                                    B1 = -1\n",
    "                                                                    A1 = -1                                                             \n",
    "                                                    if (A1 == 1) and (A4 == 2) :\n",
    "                                                        if z4 <= prob_p :\n",
    "                                                            A1 = 2\n",
    "                                                            BS = np.sum(B1*B2 < 0) + np.sum(B1*B3 < 0) + np.sum(B1*B4 < 0) + np.sum(B1*A1 < 0)\n",
    "                                                            if z5 <= (BS/5) ** beta :\n",
    "                                                                if B1 == - 1 :\n",
    "                                                                    B1 = 1\n",
    "                                                            elif z5 > (BS/5) ** beta :\n",
    "                                                                if B1 == -1 :\n",
    "                                                                    B1 = -1                                                          \n",
    "                                                        elif z4 > prob_p :\n",
    "                                                            BS = np.sum(B1*B2 < 0) + np.sum(B1*B3 < 0) + np.sum(B1*B4 < 0) + np.sum(B1*A1 < 0)\n",
    "                                                            if z5 <= (BS/5) ** beta :\n",
    "                                                                if B1 == - 1 :\n",
    "                                                                    B1 = 1\n",
    "                                                            elif z5 > (BS/5) ** beta :\n",
    "                                                                if B1 == -1 :\n",
    "                                                                    B1 = -1\n",
    "                                                                    A = -1\n",
    "                                                    if (A1 == 1) and (A3 == 2) :\n",
    "                                                        if z4 <= prob_p :\n",
    "                                                            A1 = 2\n",
    "                                                            BS = np.sum(B1*B2 < 0) + np.sum(B1*B3 < 0) + np.sum(B1*B4 < 0) + np.sum(B1*A1 < 0)\n",
    "                                                            if z5 <= (BS/5) ** beta :\n",
    "                                                                if B1 == - 1 :\n",
    "                                                                    B1 = 1\n",
    "                                                            elif z5 > (BS/5) ** beta :\n",
    "                                                                if B1 == -1 :\n",
    "                                                                    B1 = -1                                                            \n",
    "                                                        elif z4 > prob_p :\n",
    "                                                            BS = np.sum(B1*B2 < 0) + np.sum(B1*B3 < 0) + np.sum(B1*B4 < 0) + np.sum(B1*A1 < 0)\n",
    "                                                            if z5 <= (BS/5) ** beta :\n",
    "                                                                if B1 == - 1 :\n",
    "                                                                    B1 = 1\n",
    "                                                            elif z5 > (BS/5) ** beta :\n",
    "                                                                if B1 == -1 :\n",
    "                                                                    B1 = -1\n",
    "                                                                    A1 = -1\n",
    "                                                    if (A1 == -1) and (A2 == 1 or A2 == 2) :\n",
    "                                                        if z4 <= prob_p :\n",
    "                                                            A1 = 1\n",
    "                                                            BS = np.sum(B1*B2 < 0) + np.sum(B1*B3 < 0) + np.sum(B1*B4 < 0) + np.sum(B1*A1 < 0)\n",
    "                                                            if z5 <= (BS/5) ** beta :\n",
    "                                                                if B1 == - 1 :\n",
    "                                                                    B1 = 1\n",
    "                                                            elif z5 > (BS/5) ** beta :\n",
    "                                                                if B1 == -1 :\n",
    "                                                                    B1 = -1\n",
    "                                                        elif z4 > prob_p :\n",
    "                                                            A1 = -1\n",
    "                                                    if (A1 == -1) and (A3 == 1 or A3 == 2) :\n",
    "                                                        if z4 <= prob_p :\n",
    "                                                            A1 = 1\n",
    "                                                            BS = np.sum(B1*B2 < 0) + np.sum(B1*B3 < 0) + np.sum(B1*B4 < 0) + np.sum(B1*A1 < 0)\n",
    "                                                            if z5 <= (BS/5) ** beta :\n",
    "                                                                if B1 == - 1 :\n",
    "                                                                    B1 = 1                                                            \n",
    "                                                        elif z4 > prob_p :\n",
    "                                                            A1 = -1   \n",
    "                                                    if (A1 == -1) and (A4 == 1 or A4 == 2) :\n",
    "                                                        if z4 <= prob_p :\n",
    "                                                            A1 = 1\n",
    "                                                            BS = np.sum(B1*B2 < 0) + np.sum(B1*B3 < 0) + np.sum(B1*B4 < 0) + np.sum(B1*A1 < 0)\n",
    "                                                            if z5 <= (BS/5) ** beta :\n",
    "                                                                if B1 == - 1 :\n",
    "                                                                    B1 = 1                                                              \n",
    "                                                        elif z4 > prob_p :\n",
    "                                                            A1 = -1 \n",
    "   \n",
    "                                                        print(A, B)"
   ]
  },
  {
   "cell_type": "code",
   "execution_count": null,
   "metadata": {},
   "outputs": [],
   "source": [
    "i3 = random.randint(0, 9)\n",
    "i3"
   ]
  },
  {
   "cell_type": "code",
   "execution_count": null,
   "metadata": {},
   "outputs": [],
   "source": []
  },
  {
   "cell_type": "code",
   "execution_count": null,
   "metadata": {},
   "outputs": [],
   "source": []
  },
  {
   "cell_type": "code",
   "execution_count": null,
   "metadata": {},
   "outputs": [],
   "source": []
  },
  {
   "cell_type": "code",
   "execution_count": null,
   "metadata": {},
   "outputs": [],
   "source": [
    "            z1 = random()\n",
    "            if z1 <= (1/99):\n",
    "                \n",
    "            if \n",
    "            A[i, j]\n",
    "\n",
    "                    if not(i == k) and not(j == l) : \n",
    "                        u = random()\n",
    "                        if u <= (4/99) :\n",
    "                            if B[i, j] + B[k, l] ==0 :\n",
    "                                x = 1 \n",
    "                                X = sum(x)\n",
    "                            elif not(B[i, j] + B[k, l] ==0) :\n",
    "                                B[i, j] = B[i, j]\n",
    "                                B[k, l] = B[k, l]\n",
    "                        elif u > (4/99) :\n",
    "                            B[i, j] = B[i, j]\n",
    "                            B[k, l] = B[k, l]      \n",
    "                        \n",
    "    for i in c : \n",
    "        for j in c :\n",
    "            z = random()\n",
    "            if z <= (X/5) ** beta :\n",
    "                if A[i, j] * B[i, j] < 0 :\n",
    "                    if A[i, j] > 0 and B[i, j] < 0 :\n",
    "                        B[i, j] = 1\n",
    "                    elif A[i, j] < 0 and B[i, j] > 0 :\n",
    "                        B[i, j] = - 1\n",
    "            elif  z > (X/5) ** beta :\n",
    "                B[i, j] = B[i, j]                           \n",
    "                P = sum(sum(B > -1)) / 100"
   ]
  },
  {
   "cell_type": "code",
   "execution_count": null,
   "metadata": {},
   "outputs": [],
   "source": [
    "                                                    elif B1 == -1 :\n",
    "                                                        BS = np.sum(B1*B2 < 0) + np.sum(B1*B3 < 0) + np.sum(B1*B4 < 0) + np.sum(B1*A1 < 0) \n",
    "                                                        if z5 <= (BS/5) ** beta :\n",
    "                                                            B1 = 1\n",
    "                                                        elif z5 > (BS/5)**beta :\n",
    "                                                            B1 = -1\n",
    "                                                    elif B1 == 1 :    \n",
    "                                                        BS = np.sum(B1*B2 < 0) + np.sum(B1*B3 < 0) + np.sum(B1*B4 < 0) + np.sum(B1*A1 < 0) \n",
    "                                                        if z5 <= (BS/5) ** beta :\n",
    "                                                            B1 = -1   \n",
    "                                                        elif z5 > (BS/5)**beta :\n",
    "                                                            B1 = 1\n",
    "                                                            print(A1, A2, A3, A4, B1, B2, B3, B4)"
   ]
  },
  {
   "cell_type": "code",
   "execution_count": null,
   "metadata": {},
   "outputs": [],
   "source": [
    "D = np.linspace(0, 5, 2)\n",
    "D"
   ]
  },
  {
   "cell_type": "code",
   "execution_count": null,
   "metadata": {},
   "outputs": [],
   "source": [
    "A = np.random.choice([x for x in range(1, 3)], 10*10).reshape(10, 10)  # layer A   (10*10) matrix, component +1, +2\n",
    "B = np.random.choice([x for x in range(-1, 0)], 10*10).reshape(10, 10) # layer B   (10*10) matrix, component -1\n",
    "D = np.linspace(0, 5, 2)  # reinforcement r space  for the graph according to r changes\n",
    "beta = 1  # volatility : 1\n",
    "for r in D :\n",
    "    C = np.array([[1, 1], [1, -r]])  # p + q = 1, r = p / q\n",
    "    C_inv=np.linalg.inv(C)\n",
    "    pq=C_inv * np.array([[1, 0]])  # deriving probability p, q \n",
    "    prob_p = pq[0,0]  # probability p \n",
    "    prob_q=pq[1,0]    # probability p \n",
    "    c = [0, 1, 2, 3, 4, 5, 6, 7, 8, 9]  # monte carlo simulation\n",
    "    np.array_rand (A, 5)"
   ]
  },
  {
   "cell_type": "code",
   "execution_count": null,
   "metadata": {},
   "outputs": [],
   "source": [
    "A = np.random.choice([x for x in range(1, 3)], 10*10).reshape(10, 10)  # layer A   (10*10) matrix, component +1, +2\n",
    "B = np.random.choice([x for x in range(-1, 0)], 10*10).reshape(10, 10) # layer B   (10*10) matrix, component -1\n",
    "D = np.linspace(0, 5, 2)  # reinforcement r space  for the graph according to r changes\n",
    "beta = 1  # volatility : 1\n",
    "np.random.randint(A)"
   ]
  },
  {
   "cell_type": "code",
   "execution_count": null,
   "metadata": {},
   "outputs": [],
   "source": [
    "import random\n",
    "A = np.random.choice([x for x in range(1, 3)], 10*10).reshape(10, 10)  # layer A   (10*10) matrix, component +1, +2\n",
    "A2 = A[random.randint(1,10),random.randint(1,10)] \n",
    "A2"
   ]
  },
  {
   "cell_type": "code",
   "execution_count": null,
   "metadata": {
    "scrolled": true
   },
   "outputs": [],
   "source": [
    "A = np.random.choice([x for x in range(1, 3)], 10*10).reshape(10, 10)  # layer A   (10*10) matrix, component +1, +2\n",
    "choose(A, 5)"
   ]
  },
  {
   "cell_type": "code",
   "execution_count": null,
   "metadata": {},
   "outputs": [],
   "source": [
    "import random\n",
    "from random import *\n",
    "a=random.randint(1,10)\n",
    "a"
   ]
  },
  {
   "cell_type": "code",
   "execution_count": null,
   "metadata": {},
   "outputs": [],
   "source": [
    "import random\n",
    "a = random.randint(1, 10)\n",
    "a"
   ]
  },
  {
   "cell_type": "code",
   "execution_count": null,
   "metadata": {},
   "outputs": [],
   "source": [
    "A = np.random.choice([x for x in range(1, 3)], 10*10).reshape(10, 10)  # layer A   (10*10) matrix, component +1, +2\n",
    "B = np.random.choice([x for x in range(-1, 0)], 10*10).reshape(10, 10) # layer B   (10*10) matrix, component -1\n",
    "D = np.linspace(0, 5, 2)  # reinforcement r space  for the graph according to r changes\n",
    "beta = 1  # volatility : 1\n",
    "for r in D :\n",
    "    C = np.array([[1, 1], [1, -r]])  # p + q = 1, r = p / q\n",
    "    C_inv=np.linalg.inv(C)\n",
    "    pq=C_inv * np.array([[1, 0]])  # deriving probability p, q \n",
    "    prob_p = pq[0,0]  # probability p \n",
    "    prob_q=pq[1,0]    # probability p \n",
    "    c = [0, 1, 2, 3, 4, 5, 6, 7, 8, 9]  # monte carlo simulation\n",
    "    for i1 in c :\n",
    "        for j1 in c :\n",
    "            A1 = A[i1, j1]\n",
    "            while true :\n",
    "                i2 = random.randint(1, 10)\n",
    "                j2 = random.randint(1, 10)\n",
    "                while i1==i2 and j1==j2 :\n",
    "                    continue\n",
    "                else :\n",
    "                    A2 = A[i2, j2]         \n",
    "                    \n",
    "            break\n",
    "            print(A2)\n"
   ]
  }
 ],
 "metadata": {
  "kernelspec": {
   "display_name": "Python 3",
   "language": "python",
   "name": "python3"
  },
  "language_info": {
   "codemirror_mode": {
    "name": "ipython",
    "version": 3
   },
   "file_extension": ".py",
   "mimetype": "text/x-python",
   "name": "python",
   "nbconvert_exporter": "python",
   "pygments_lexer": "ipython3",
   "version": "3.6.4"
  }
 },
 "nbformat": 4,
 "nbformat_minor": 2
}
