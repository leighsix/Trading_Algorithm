{
 "cells": [
  {
   "cell_type": "code",
   "execution_count": 1,
   "metadata": {},
   "outputs": [],
   "source": [
    "from IPython.display import display\n",
    "import numpy as np\n",
    "import matplotlib.pyplot as plt\n",
    "import pandas as pd\n",
    "import mglearn\n",
    "import math\n",
    "import random\n",
    "import networkx\n",
    "from sympy import *             "
   ]
  },
  {
   "cell_type": "code",
   "execution_count": 152,
   "metadata": {},
   "outputs": [],
   "source": []
  },
  {
   "cell_type": "code",
   "execution_count": 2,
   "metadata": {},
   "outputs": [],
   "source": [
    "def A_layer_dynamics(A) :\n",
    "    for i in range(0, 100) :\n",
    "        for k in range(1, 4) :\n",
    "            if A[IA[i*4]]* A[IA[i+k]] == 1 :\n",
    "                z1 = random.random()\n",
    "                if z1 < prob_p :\n",
    "                    A[IA[i*4]] = 2\n",
    "                    A[IA[i+k]] = 2\n",
    "            elif A[IA[i*4]]* A[IA[i+k]] == 2 :\n",
    "                z2 = random.random()\n",
    "                if z2 < prob_p :\n",
    "                    A[IA[i*4]] = 2\n",
    "                    A[IA[i+k]] = 2 \n",
    "            elif A[IA[i*4]]* A[IA[i+k]] == -1 :\n",
    "                z3 = random.random()\n",
    "                if z3 > prob_p :\n",
    "                    A[IA[i*4]] = -1\n",
    "                    A[IA[i+k]] = -1\n",
    "            elif A[IA[i*4]]* A[IA[i+k]] == -2 :\n",
    "                z4 = random.random()\n",
    "                if z4 < prob_p :\n",
    "                    if A[IA[i*4]] > 0 :\n",
    "                        A[IA[i*4]] = 1\n",
    "                        A[IA[i+k]] = +1\n",
    "                    elif A[IA[i*4]] < 0 :\n",
    "                        A[IA[i*4]] = -1\n",
    "                        A[IA[i+k]] = +1\n",
    "        if A[i] * B[i] == -1 :\n",
    "            z5 = random.random()\n",
    "            if z5 < prob_q :\n",
    "                A[i] = -A[i]\n",
    "        elif A[i] * B[i] == -2 :\n",
    "            z6 = random.random()\n",
    "            if z6 < prob_q :\n",
    "                if A[i] > 0 :\n",
    "                    A[i] = 1\n",
    "                elif A[i] < 0 :\n",
    "                    A[i] = -A[i]\n",
    "    return A\n",
    "\n",
    "def B_layer_dynamics(B) :\n",
    "    for i in range(0, 100) :\n",
    "        opposite = []\n",
    "        for k in range(1, 4) :\n",
    "            if B[i] * B[IB[i+k]] < 0 :\n",
    "                opposite.append(1)\n",
    "        if B[i] * A[i] < 0 :\n",
    "            opposite.append(1)\n",
    "        prob_beta = ((sum(opposite))/5)**beta\n",
    "        z7 = random.random()\n",
    "        if z7 < prob_beta :\n",
    "            B[i] = -B[i] \n",
    "    return B"
   ]
  },
  {
   "cell_type": "code",
   "execution_count": 4,
   "metadata": {},
   "outputs": [
    {
     "data": {
      "image/png": "[encoded data removed]",
      "text/plain": [
       "<Figure size 432x288 with 1 Axes>"
      ]
     },
     "metadata": {},
     "output_type": "display_data"
    }
   ],
   "source": [
    "connect_line_A = []\n",
    "connect_line_B = []\n",
    "connect_line_I = []\n",
    "IA = []\n",
    "IB = []\n",
    "for j in range(0, 100) :\n",
    "    connect_line_A.append(j)\n",
    "    connect_line_B.append(j)\n",
    "    connect_line_I.append(j)\n",
    "for i in range(0, 100) :\n",
    "    random.shuffle(connect_line_A)\n",
    "    random.shuffle(connect_line_B)\n",
    "    IA += connect_line_A[0:4]\n",
    "    IB += connect_line_A[0:4]\n",
    "D = np.linspace(0, 2, 100)  # reinforcement r space  for the graph according to r changes\n",
    "beta = 3                    # volatility \n",
    "for r in D :\n",
    "    A = [1, 2]*50\n",
    "    B = [-1]*100\n",
    "    C = np.array([[1, 1], [1, -r]])  # p + q = 1, r = p / q\n",
    "    C_inv=np.linalg.inv(C)\n",
    "    pq=C_inv * np.array([[1, 0]])  # deriving probability p, q \n",
    "    prob_p = pq[0,0]  # probability p \n",
    "    prob_q=pq[1,0]    # probability q \n",
    "    for i in range(0,1000) :\n",
    "        A_layer_dynamics(A)\n",
    "        B_layer_dynamics(B)\n",
    "    P = sum(B)/ 100\n",
    "    plt.plot(r,P,'.')"
   ]
  },
  {
   "cell_type": "code",
   "execution_count": null,
   "metadata": {},
   "outputs": [],
   "source": []
  },
  {
   "cell_type": "code",
   "execution_count": 209,
   "metadata": {},
   "outputs": [
    {
     "data": {
      "image/png": "[encoded data removed]",
      "text/plain": [
       "<Figure size 432x288 with 1 Axes>"
      ]
     },
     "metadata": {},
     "output_type": "display_data"
    }
   ],
   "source": [
    "connect_line_A = []\n",
    "connect_line_B = []\n",
    "connect_line_I = []\n",
    "IA = []\n",
    "IB = []\n",
    "for j in range(0, 100) :\n",
    "    connect_line_A.append(j)\n",
    "    connect_line_B.append(j)\n",
    "    connect_line_I.append(j)\n",
    "for i in range(0, 100) :\n",
    "    random.shuffle(connect_line_A)\n",
    "    random.shuffle(connect_line_B)\n",
    "    IA += connect_line_A[0:4]\n",
    "    IB += connect_line_A[0:4]\n",
    "D = np.linspace(0, 6, 1000)  # reinforcement r space  for the graph according to r changes\n",
    "r = 0.5\n",
    "C = np.array([[1, 1], [1, -r]])  # p + q = 1, r = p / q\n",
    "C_inv=np.linalg.inv(C)\n",
    "pq=C_inv * np.array([[1, 0]])  # deriving probability p, q \n",
    "prob_p = pq[0,0]  # probability p \n",
    "prob_q=pq[1,0]    # probability q \n",
    "for beta in D :\n",
    "    A = [1, 2]*50\n",
    "    B = [-1]*100\n",
    "    for i in range(0,1000) :\n",
    "        A_layer_dynamics(A)\n",
    "        B_layer_dynamics(B)\n",
    "    P = sum(B)/ 100\n",
    "    plt.plot(beta, P, 'o')"
   ]
  },
  {
   "cell_type": "code",
   "execution_count": null,
   "metadata": {},
   "outputs": [],
   "source": []
  },
  {
   "cell_type": "code",
   "execution_count": 30,
   "metadata": {},
   "outputs": [
    {
     "data": {
      "text/plain": [
       "5.0"
      ]
     },
     "execution_count": 30,
     "metadata": {},
     "output_type": "execute_result"
    }
   ],
   "source": [
    "   r"
   ]
  },
  {
   "cell_type": "code",
   "execution_count": 116,
   "metadata": {},
   "outputs": [],
   "source": []
  },
  {
   "cell_type": "code",
   "execution_count": 117,
   "metadata": {},
   "outputs": [],
   "source": []
  },
  {
   "cell_type": "code",
   "execution_count": 25,
   "metadata": {},
   "outputs": [
    {
     "ename": "AttributeError",
     "evalue": "'list' object has no attribute 'reshape'",
     "output_type": "error",
     "traceback": [
      "\u001b[1;31m---------------------------------------------------------------------------\u001b[0m",
      "\u001b[1;31mAttributeError\u001b[0m                            Traceback (most recent call last)",
      "\u001b[1;32m<ipython-input-25-3eb6731d503a>\u001b[0m in \u001b[0;36m<module>\u001b[1;34m()\u001b[0m\n\u001b[1;32m----> 1\u001b[1;33m \u001b[0mA\u001b[0m\u001b[1;33m.\u001b[0m\u001b[0mreshape\u001b[0m\u001b[1;33m(\u001b[0m\u001b[1;36m10\u001b[0m\u001b[1;33m,\u001b[0m\u001b[1;36m10\u001b[0m\u001b[1;33m)\u001b[0m\u001b[1;33m\u001b[0m\u001b[0m\n\u001b[0m",
      "\u001b[1;31mAttributeError\u001b[0m: 'list' object has no attribute 'reshape'"
     ]
    }
   ],
   "source": []
  },
  {
   "cell_type": "code",
   "execution_count": 93,
   "metadata": {},
   "outputs": [
    {
     "name": "stdout",
     "output_type": "stream",
     "text": [
      "1\n",
      "2\n",
      "3\n",
      "4\n",
      "5\n",
      "6\n",
      "7\n",
      "8\n",
      "9\n",
      "10\n",
      "11\n",
      "12\n",
      "13\n",
      "14\n",
      "15\n",
      "16\n",
      "17\n",
      "18\n",
      "19\n",
      "20\n",
      "21\n",
      "22\n",
      "23\n",
      "24\n",
      "25\n",
      "26\n",
      "27\n",
      "28\n",
      "29\n",
      "30\n",
      "31\n",
      "32\n"
     ]
    }
   ],
   "source": [
    "connect_line_B = [0, 1, 2, 3, 4, 5, 6, 7, 8, 9]\n",
    "B= [-1, -1, -1, -1, -1, -1, -1, -1, -1, -1]\n",
    "A= [0, 1, 2, 3, 4, 5, 6, 7, 8, 9]\n",
    "opposite = []\n",
    "for i in range(0, 9) :\n",
    "    random.shuffle(connect_line_B)\n",
    "    I = connect_line_B[0:4]\n",
    "    for k in range(0, 4) :\n",
    "        if B[i] * B[I[k]] < 0 or B[i] * A[i] <0 :\n",
    "            opposite.append(1)\n",
    "            print(sum(opposite))\n",
    "       "
   ]
  },
  {
   "cell_type": "code",
   "execution_count": 3,
   "metadata": {},
   "outputs": [
    {
     "ename": "NameError",
     "evalue": "name 'connecting' is not defined",
     "output_type": "error",
     "traceback": [
      "\u001b[1;31m---------------------------------------------------------------------------\u001b[0m",
      "\u001b[1;31mNameError\u001b[0m                                 Traceback (most recent call last)",
      "\u001b[1;32m<ipython-input-3-1fef972b12f9>\u001b[0m in \u001b[0;36m<module>\u001b[1;34m()\u001b[0m\n\u001b[0;32m     13\u001b[0m                 \u001b[1;32mfor\u001b[0m \u001b[0ml\u001b[0m \u001b[1;32min\u001b[0m \u001b[0mrange\u001b[0m\u001b[1;33m(\u001b[0m\u001b[1;36m0\u001b[0m\u001b[1;33m,\u001b[0m \u001b[1;36m5\u001b[0m\u001b[1;33m)\u001b[0m \u001b[1;33m:\u001b[0m\u001b[1;33m\u001b[0m\u001b[0m\n\u001b[0;32m     14\u001b[0m                     \u001b[1;32mwhile\u001b[0m \u001b[1;32mTrue\u001b[0m \u001b[1;33m:\u001b[0m\u001b[1;33m\u001b[0m\u001b[0m\n\u001b[1;32m---> 15\u001b[1;33m                         \u001b[1;32mif\u001b[0m \u001b[0mconnecting\u001b[0m\u001b[1;33m[\u001b[0m\u001b[0mi\u001b[0m\u001b[1;33m]\u001b[0m\u001b[1;33m[\u001b[0m\u001b[0mj\u001b[0m\u001b[1;33m]\u001b[0m \u001b[1;33m>=\u001b[0m \u001b[1;36m0\u001b[0m \u001b[1;32mand\u001b[0m \u001b[0mconnecting\u001b[0m\u001b[1;33m[\u001b[0m\u001b[0mk\u001b[0m\u001b[1;33m]\u001b[0m\u001b[1;33m[\u001b[0m\u001b[0ml\u001b[0m\u001b[1;33m]\u001b[0m \u001b[1;33m>=\u001b[0m \u001b[1;36m0\u001b[0m \u001b[1;33m:\u001b[0m\u001b[1;33m\u001b[0m\u001b[0m\n\u001b[0m\u001b[0;32m     16\u001b[0m                             \u001b[1;32mif\u001b[0m \u001b[0mz\u001b[0m \u001b[1;33m<=\u001b[0m \u001b[0mprob_p\u001b[0m \u001b[1;33m:\u001b[0m\u001b[1;33m\u001b[0m\u001b[0m\n\u001b[0;32m     17\u001b[0m                                 \u001b[1;32mif\u001b[0m \u001b[0mA\u001b[0m\u001b[1;33m[\u001b[0m\u001b[0mconnecting\u001b[0m\u001b[1;33m[\u001b[0m\u001b[0mi\u001b[0m\u001b[1;33m]\u001b[0m\u001b[1;33m[\u001b[0m\u001b[0mj\u001b[0m\u001b[1;33m]\u001b[0m\u001b[1;33m]\u001b[0m \u001b[1;33m*\u001b[0m \u001b[0mA\u001b[0m\u001b[1;33m[\u001b[0m\u001b[0mconnecting\u001b[0m\u001b[1;33m[\u001b[0m\u001b[0mk\u001b[0m\u001b[1;33m]\u001b[0m\u001b[1;33m[\u001b[0m\u001b[0ml\u001b[0m\u001b[1;33m]\u001b[0m\u001b[1;33m]\u001b[0m \u001b[1;33m==\u001b[0m \u001b[1;36m2\u001b[0m \u001b[1;33m:\u001b[0m\u001b[1;33m\u001b[0m\u001b[0m\n",
      "\u001b[1;31mNameError\u001b[0m: name 'connecting' is not defined"
     ]
    }
   ],
   "source": [
    "D = np.linspace(0, 5, 2)  # reinforcement r space  for the graph according to r changes\n",
    "beta = 1  # volatility : 1\n",
    "for r in D :\n",
    "    C = np.array([[1, 1], [1, -r]])  # p + q = 1, r = p / q\n",
    "    C_inv=np.linalg.inv(C)\n",
    "    pq=C_inv * np.array([[1, 0]])  # deriving probability p, q \n",
    "    prob_p = pq[0,0]  # probability p \n",
    "    prob_q=pq[1,0]    # probability p \n",
    "    z = random.random()\n",
    "    for i in range(0, 100) :\n",
    "        for j in range(0, 5) :\n",
    "            for k in range(0, 100) :\n",
    "                for l in range(0, 5) :\n",
    "                    while True :\n",
    "                        if connecting[i][j] >= 0 and connecting[k][l] >= 0 :\n",
    "                            if z <= prob_p :\n",
    "                                if A[connecting[i][j]] * A[connecting[k][l]] == 2 :\n",
    "                                    A[connecting[i][j]] == 2 \n",
    "                                    A[connecting[k][l]] == 2\n",
    "                            elif z > prob_p :\n",
    "                                if A[connecting[i][j]] * B[connecting[i][j]] == -1 :\n",
    "                                    if A[connecting[i][j]] > 0 :\n",
    "                                        A[connecting[i][j]] == -1\n",
    "                                    elif A[connecting[i][j]] < 0 :\n",
    "                                        A[connecting[i][j]] == 1\n",
    "                                elif A[connecting[i][j]] * B[connecting[i][j]] == -2 :\n",
    "                                    A[connecting[i][j]] == 1\n",
    "                        elif not(connecting[i][j] >= 0 and connecting[k][l] >= 0) :\n",
    "                            continue"
   ]
  },
  {
   "cell_type": "code",
   "execution_count": 4,
   "metadata": {},
   "outputs": [
    {
     "ename": "SyntaxError",
     "evalue": "invalid syntax (<ipython-input-4-1f0fd10448f8>, line 35)",
     "output_type": "error",
     "traceback": [
      "\u001b[1;36m  File \u001b[1;32m\"<ipython-input-4-1f0fd10448f8>\"\u001b[1;36m, line \u001b[1;32m35\u001b[0m\n\u001b[1;33m    Alayer =\u001b[0m\n\u001b[1;37m             ^\u001b[0m\n\u001b[1;31mSyntaxError\u001b[0m\u001b[1;31m:\u001b[0m invalid syntax\n"
     ]
    }
   ],
   "source": [
    "\n",
    "D = np.linspace(0, 5, 2)  # reinforcement r space  for the graph according to r changes\n",
    "beta = 1  # volatility : 1\n",
    "for r in D :\n",
    "    C = np.array([[1, 1], [1, -r]])  # p + q = 1, r = p / q\n",
    "    C_inv=np.linalg.inv(C)\n",
    "    pq=C_inv * np.array([[1, 0]])  # deriving probability p, q \n",
    "    prob_p = pq[0,0]  # probability p \n",
    "    prob_q=pq[1,0]    # probability p \n",
    "    for i1 in range(0,100) :\n",
    "        A1 = A[i1]\n",
    "        while True :\n",
    "            i2 = random.randint(0, 99)\n",
    "            if not(i1==i2) :\n",
    "                A2 = A[i2]\n",
    "                break\n",
    "            if i1==i2 :\n",
    "                continue\n",
    "        while True :\n",
    "            i3 = random.randint(0, 99)\n",
    "            if not(i2==i3) :\n",
    "                A3 = A[i3]\n",
    "                break\n",
    "            if i2==i3 :\n",
    "                continue\n",
    "        while True :\n",
    "            i4 = random.randint(0, 99)\n",
    "            if not(i3==i4) :\n",
    "                A4 = A[i4]\n",
    "                break\n",
    "            if i2==i3 :\n",
    "                continue             # A layer internal degree : 4  \n",
    "        Alayer = [A1, A2, A3, A4]\n",
    "        print(Alayer)\n",
    "        Alayer = \n",
    "        while True :\n",
    "            i2 = random.randint(0, 100)\n",
    "            \n",
    "            if not(i1==i2) :\n",
    "                A2 = A[i2]\n",
    "                if A[i] * A[i2] == 2 :\n",
    "                    if z <= prob_p :\n",
    "                        A[i] == 2\n",
    "                        A[i2] == 2\n",
    "                break\n",
    "            if i == i2 :\n",
    "                continue\n",
    "    while True :\n",
    "        i3 = random.randint(0, 99)\n",
    "        if not(i2==i3) :\n",
    "            A3 = A[i3]\n",
    "            break\n",
    "        if i2==i3 :\n",
    "            continue\n",
    "    while True :\n",
    "        i4 = random.randint(0, 99)\n",
    "        if not(i3==i4) :\n",
    "            A4 = A[i4]\n",
    "            break\n",
    "        if i2==i3 :\n",
    "            continue             # A layer internal degree : 4  \n",
    "    "
   ]
  },
  {
   "cell_type": "code",
   "execution_count": null,
   "metadata": {},
   "outputs": [],
   "source": []
  }
 ],
 "metadata": {
  "kernelspec": {
   "display_name": "Python 3",
   "language": "python",
   "name": "python3"
  },
  "language_info": {
   "codemirror_mode": {
    "name": "ipython",
    "version": 3
   },
   "file_extension": ".py",
   "mimetype": "text/x-python",
   "name": "python",
   "nbconvert_exporter": "python",
   "pygments_lexer": "ipython3",
   "version": "3.6.4"
  }
 },
 "nbformat": 4,
 "nbformat_minor": 2
}
